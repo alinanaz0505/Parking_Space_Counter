{
 "cells": [
  {
   "cell_type": "markdown",
   "id": "c9821624",
   "metadata": {},
   "source": [
    "# ParkingSpacePicker "
   ]
  },
  {
   "cell_type": "code",
   "execution_count": 1,
   "id": "7a77e329",
   "metadata": {},
   "outputs": [],
   "source": [
    "#Import Libraries\n",
    "import cv2\n",
    "import pickle"
   ]
  },
  {
   "cell_type": "code",
   "execution_count": 2,
   "id": "b9c6f21d",
   "metadata": {},
   "outputs": [],
   "source": [
    "# Global variables\n",
    "width, height = 107, 48\n",
    "posList = []"
   ]
  },
  {
   "cell_type": "code",
   "execution_count": 3,
   "id": "4ee121d1",
   "metadata": {},
   "outputs": [],
   "source": [
    "# Function to save positions to a file using pickle\n",
    "def save_positions():\n",
    "    with open('CarParkPos', 'wb') as f:\n",
    "        pickle.dump(posList, f)\n"
   ]
  },
  {
   "cell_type": "code",
   "execution_count": 4,
   "id": "0487a482",
   "metadata": {},
   "outputs": [],
   "source": [
    "# Function to load positions from a file\n",
    "def load_positions():\n",
    "    global posList\n",
    "    try:\n",
    "        with open('CarParkPos', 'rb') as f:\n",
    "            posList = pickle.load(f)\n",
    "    except:\n",
    "        posList = []"
   ]
  },
  {
   "cell_type": "code",
   "execution_count": 5,
   "id": "25680dff",
   "metadata": {},
   "outputs": [],
   "source": [
    "# Function to handle mouse clicks\n",
    "def mouseClick(events, x, y, flags, params):\n",
    "    global posList\n",
    "    if events == cv2.EVENT_LBUTTONDOWN: # Left mouse button clicked\n",
    "        posList.append((x, y)) # Append the clicked position to the list\n",
    "    if events == cv2.EVENT_RBUTTONDOWN:# Right mouse button clicked\n",
    "        for i, pos in enumerate(posList): # Iterate through the positions\n",
    "            x1, y1 = pos\n",
    "            # Check if the clicked position is within any existing rectangle\n",
    "            if x1 < x < x1 + width and y1 < y < y1 + height:\n",
    "                posList.pop(i)  # If yes, remove that position\n",
    "        save_positions() # Save positions after modification\n"
   ]
  },
  {
   "cell_type": "code",
   "execution_count": null,
   "id": "4430663d",
   "metadata": {},
   "outputs": [],
   "source": [
    "\n",
    "def main():\n",
    "    load_positions()\n",
    "    while True:\n",
    "        img = cv2.imread('carParkImg.png')\n",
    "        for pos in posList:\n",
    "            cv2.rectangle(img, pos, (pos[0] + width, pos[1] + height), (255, 0, 255), 2)\n",
    "\n",
    "        cv2.imshow(\"Image\", img)\n",
    "        cv2.setMouseCallback(\"Image\", mouseClick)\n",
    "        key = cv2.waitKey(1)\n",
    "        if key == ord('q'):  # Press 'q' to quit\n",
    "            save_positions()\n",
    "            break\n",
    "\n",
    "if __name__ == \"__main__\":\n",
    "    main()"
   ]
  },
  {
   "cell_type": "markdown",
   "id": "8daa4de6",
   "metadata": {},
   "source": [
    "# Main"
   ]
  },
  {
   "cell_type": "code",
   "execution_count": 1,
   "id": "16ec547c",
   "metadata": {},
   "outputs": [],
   "source": [
    "import cv2\n",
    "import pickle\n",
    "import cvzone  # Assuming this is an external library for drawing\n",
    "import numpy as np"
   ]
  },
  {
   "cell_type": "code",
   "execution_count": 2,
   "id": "233b9cb5",
   "metadata": {},
   "outputs": [],
   "source": [
    "# Video feed\n",
    "cap = cv2.VideoCapture('carPark.mp4')  # Open video file\n"
   ]
  },
  {
   "cell_type": "code",
   "execution_count": 3,
   "id": "2d5144af",
   "metadata": {},
   "outputs": [],
   "source": [
    "# Load parking space positions from a pickle file\n",
    "with open('CarParkPos', 'rb') as f:\n",
    "    posList = pickle.load(f)"
   ]
  },
  {
   "cell_type": "code",
   "execution_count": 4,
   "id": "696f26d3",
   "metadata": {},
   "outputs": [],
   "source": [
    "# Define width and height of the parking spaces\n",
    "width, height = 107, 48\n"
   ]
  },
  {
   "cell_type": "code",
   "execution_count": 5,
   "id": "7ffeb2d5",
   "metadata": {},
   "outputs": [],
   "source": [
    "# Function to check the occupancy of parking spaces\n",
    "def checkParkingSpace(imgPro):\n",
    "    spaceCounter = 0  # Counter for free parking spaces\n",
    "\n",
    "    # Iterate through each parking space position\n",
    "    for pos in posList:\n",
    "        x, y = pos\n",
    "\n",
    "        # Crop the image to the region of interest (a parking space)\n",
    "        imgCrop = imgPro[y:y + height, x:x + width]\n",
    "        \n",
    "        # Count non-zero pixels in the cropped image\n",
    "        count = cv2.countNonZero(imgCrop)\n",
    "        \n",
    "        # Determine color and thickness for drawing rectangle based on occupancy\n",
    "        if count < 900:  # Assuming a threshold for considering a parking space occupied\n",
    "            color = (0, 255, 0)  # Green color for free space\n",
    "            thickness = 5\n",
    "            spaceCounter += 1  # Increment free space counter\n",
    "        else:\n",
    "            color = (0, 0, 255)  # Red color for occupied space\n",
    "            thickness = 2\n",
    "\n",
    "        # Draw rectangle around the parking space\n",
    "        cv2.rectangle(img, pos, (pos[0] + width, pos[1] + height), color, thickness)\n",
    "\n",
    "        # Put text showing the count of non-zero pixels (some measure of occupancy)\n",
    "        cvzone.putTextRect(img, str(count), (x, y + height - 3), scale=1,\n",
    "                           thickness=2, offset=0, colorR=color)\n",
    "\n",
    "    # Put text showing the total number of free parking spaces\n",
    "    cvzone.putTextRect(img, f'Free: {spaceCounter}/{len(posList)}', (100, 50), scale=3,\n",
    "                           thickness=5, offset=20, colorR=(0,200,0))\n"
   ]
  },
  {
   "cell_type": "code",
   "execution_count": null,
   "id": "65e7ba58",
   "metadata": {},
   "outputs": [],
   "source": [
    "# Main loop to process each frame of the video\n",
    "while True:\n",
    "    # Check if we have reached the end of the video, if so, restart from the beginning\n",
    "    if cap.get(cv2.CAP_PROP_POS_FRAMES) == cap.get(cv2.CAP_PROP_FRAME_COUNT):\n",
    "        cap.set(cv2.CAP_PROP_POS_FRAMES, 0)\n",
    "\n",
    "    # Read a frame from the video\n",
    "    success, img = cap.read()\n",
    "\n",
    "    # Convert the frame to grayscale\n",
    "    imgGray = cv2.cvtColor(img, cv2.COLOR_BGR2GRAY)\n",
    "\n",
    "    # Apply Gaussian blur to the grayscale image\n",
    "    imgBlur = cv2.GaussianBlur(imgGray, (3, 3), 1)\n",
    "\n",
    "    # Apply adaptive thresholding to get a binary image\n",
    "    imgThreshold = cv2.adaptiveThreshold(imgBlur, 255, cv2.ADAPTIVE_THRESH_GAUSSIAN_C,\n",
    "                                         cv2.THRESH_BINARY_INV, 25, 16)\n",
    "\n",
    "    # Apply median blur to the thresholded image\n",
    "    imgMedian = cv2.medianBlur(imgThreshold, 5)\n",
    "\n",
    "    # Apply dilation to the median blurred image\n",
    "    kernel = np.ones((3, 3), np.uint8)\n",
    "    imgDilate = cv2.dilate(imgMedian, kernel, iterations=1)\n",
    "\n",
    "    # Check parking space occupancy using the processed image\n",
    "    checkParkingSpace(imgDilate)\n",
    "\n",
    "    # Display the processed image with parking space occupancy information\n",
    "    cv2.imshow(\"Image\", img)\n",
    "\n",
    "    # Wait for a key press, with a delay of 10 milliseconds\n",
    "    cv2.waitKey(10)"
   ]
  },
  {
   "cell_type": "code",
   "execution_count": null,
   "id": "4a29e1f4",
   "metadata": {},
   "outputs": [],
   "source": []
  }
 ],
 "metadata": {
  "kernelspec": {
   "display_name": "Python 3 (ipykernel)",
   "language": "python",
   "name": "python3"
  },
  "language_info": {
   "codemirror_mode": {
    "name": "ipython",
    "version": 3
   },
   "file_extension": ".py",
   "mimetype": "text/x-python",
   "name": "python",
   "nbconvert_exporter": "python",
   "pygments_lexer": "ipython3",
   "version": "3.11.4"
  }
 },
 "nbformat": 4,
 "nbformat_minor": 5
}
